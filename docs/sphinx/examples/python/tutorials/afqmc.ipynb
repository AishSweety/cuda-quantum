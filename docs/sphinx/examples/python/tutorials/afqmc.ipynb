{
    "cells": [
        {
            "attachments": {},
            "cell_type": "markdown",
            "metadata": {},
            "source": [
                "# Quantum Enhanced Auxiliary Field Quantum Monte Carlo \n",
                "\n",
                "This work was done in collaboration with the Next Generation Computing team at [BASF](https://www.basf.com/global/en.html). \n",
                "\n",
                "In this tutorial we implement a quantum-classical hybrid workflow for computing the ground state energies of a strongly interacting molecular system. The algorithm consists of two parts: \n",
                "\n",
                "1. A variational quantum eigensolver that uses the quantum-number-preserving ansatz proposed by [Anselmetti et al. (2021)](https://doi.org/10.1088/1367-2630/ac2cb3) to generate a quantum trial wave function $|\\Psi_T\\rangle$ using CUDA Quantum. \n",
                "2. An Auxiliary-Field Quantum Monte Carlo simulation that realizes a classical imaginary time evolution and collects the ground state energy estimates.\n"
            ]
        },
        {
            "cell_type": "code",
            "execution_count": 1,
            "metadata": {},
            "outputs": [
                {
                    "name": "stdout",
                    "output_type": "stream",
                    "text": [
                        "Requirement already satisfied: pyscf==2.6.0 in /usr/local/lib/python3.10/dist-packages (2.6.0)\n",
                        "Requirement already satisfied: openfermion==1.6.1 in /usr/local/lib/python3.10/dist-packages (1.6.1)\n",
                        "Requirement already satisfied: ipie==0.7.1 in /usr/local/lib/python3.10/dist-packages (0.7.1)\n",
                        "Requirement already satisfied: h5py>=2.7 in /usr/local/lib/python3.10/dist-packages (from pyscf==2.6.0) (3.10.0)\n",
                        "Requirement already satisfied: scipy!=1.5.0,!=1.5.1 in /usr/local/lib/python3.10/dist-packages (from pyscf==2.6.0) (1.10.1)\n",
                        "Requirement already satisfied: numpy!=1.16,!=1.17,>=1.13 in /usr/local/lib/python3.10/dist-packages (from pyscf==2.6.0) (1.26.4)\n",
                        "Requirement already satisfied: setuptools in /usr/lib/python3/dist-packages (from pyscf==2.6.0) (59.6.0)\n",
                        "Requirement already satisfied: cirq-core~=1.0 in /usr/local/lib/python3.10/dist-packages (from openfermion==1.6.1) (1.4.1)\n",
                        "Requirement already satisfied: pubchempy in /usr/local/lib/python3.10/dist-packages (from openfermion==1.6.1) (1.0.4)\n",
                        "Requirement already satisfied: deprecation in /usr/local/lib/python3.10/dist-packages (from openfermion==1.6.1) (2.1.0)\n",
                        "Requirement already satisfied: requests>=2.18 in /usr/local/lib/python3.10/dist-packages (from openfermion==1.6.1) (2.31.0)\n",
                        "Requirement already satisfied: networkx in /usr/local/lib/python3.10/dist-packages (from openfermion==1.6.1) (3.3)\n",
                        "Requirement already satisfied: sympy in /usr/local/lib/python3.10/dist-packages (from openfermion==1.6.1) (1.13.1)\n",
                        "Requirement already satisfied: plum-dispatch in /usr/local/lib/python3.10/dist-packages (from ipie==0.7.1) (2.5.2)\n",
                        "Requirement already satisfied: numba in /usr/local/lib/python3.10/dist-packages (from ipie==0.7.1) (0.60.0)\n",
                        "Requirement already satisfied: pytest in /usr/local/lib/python3.10/dist-packages (from ipie==0.7.1) (8.2.0)\n",
                        "Requirement already satisfied: pandas in /usr/local/lib/python3.10/dist-packages (from ipie==0.7.1) (2.2.2)\n",
                        "Requirement already satisfied: attrs>=21.3.0 in /usr/local/lib/python3.10/dist-packages (from cirq-core~=1.0->openfermion==1.6.1) (23.2.0)\n",
                        "Requirement already satisfied: typing-extensions>=4.2 in /usr/local/lib/python3.10/dist-packages (from cirq-core~=1.0->openfermion==1.6.1) (4.12.2)\n",
                        "Requirement already satisfied: duet>=0.2.8 in /usr/local/lib/python3.10/dist-packages (from cirq-core~=1.0->openfermion==1.6.1) (0.2.9)\n",
                        "Requirement already satisfied: sortedcontainers~=2.0 in /usr/local/lib/python3.10/dist-packages (from cirq-core~=1.0->openfermion==1.6.1) (2.4.0)\n",
                        "Requirement already satisfied: tqdm in /usr/local/lib/python3.10/dist-packages (from cirq-core~=1.0->openfermion==1.6.1) (4.66.4)\n",
                        "Requirement already satisfied: matplotlib~=3.0 in /usr/local/lib/python3.10/dist-packages (from cirq-core~=1.0->openfermion==1.6.1) (3.9.1)\n",
                        "Requirement already satisfied: certifi>=2017.4.17 in /usr/local/lib/python3.10/dist-packages (from requests>=2.18->openfermion==1.6.1) (2024.7.4)\n",
                        "Requirement already satisfied: idna<4,>=2.5 in /usr/local/lib/python3.10/dist-packages (from requests>=2.18->openfermion==1.6.1) (3.7)\n",
                        "Requirement already satisfied: charset-normalizer<4,>=2 in /usr/local/lib/python3.10/dist-packages (from requests>=2.18->openfermion==1.6.1) (3.3.2)\n",
                        "Requirement already satisfied: urllib3<3,>=1.21.1 in /usr/local/lib/python3.10/dist-packages (from requests>=2.18->openfermion==1.6.1) (2.2.2)\n",
                        "Requirement already satisfied: packaging in /usr/local/lib/python3.10/dist-packages (from deprecation->openfermion==1.6.1) (24.1)\n",
                        "Requirement already satisfied: llvmlite<0.44,>=0.43.0dev0 in /usr/local/lib/python3.10/dist-packages (from numba->ipie==0.7.1) (0.43.0)\n",
                        "Requirement already satisfied: python-dateutil>=2.8.2 in /usr/local/lib/python3.10/dist-packages (from pandas->ipie==0.7.1) (2.9.0.post0)\n",
                        "Requirement already satisfied: tzdata>=2022.7 in /usr/local/lib/python3.10/dist-packages (from pandas->ipie==0.7.1) (2024.1)\n",
                        "Requirement already satisfied: pytz>=2020.1 in /usr/local/lib/python3.10/dist-packages (from pandas->ipie==0.7.1) (2024.1)\n",
                        "Requirement already satisfied: beartype>=0.16.2 in /usr/local/lib/python3.10/dist-packages (from plum-dispatch->ipie==0.7.1) (0.18.5)\n",
                        "Requirement already satisfied: rich>=10.0 in /usr/local/lib/python3.10/dist-packages (from plum-dispatch->ipie==0.7.1) (13.7.1)\n",
                        "Requirement already satisfied: pluggy<2.0,>=1.5 in /usr/local/lib/python3.10/dist-packages (from pytest->ipie==0.7.1) (1.5.0)\n",
                        "Requirement already satisfied: iniconfig in /usr/local/lib/python3.10/dist-packages (from pytest->ipie==0.7.1) (2.0.0)\n",
                        "Requirement already satisfied: tomli>=1 in /usr/local/lib/python3.10/dist-packages (from pytest->ipie==0.7.1) (2.0.1)\n",
                        "Requirement already satisfied: exceptiongroup>=1.0.0rc8 in /usr/local/lib/python3.10/dist-packages (from pytest->ipie==0.7.1) (1.2.2)\n",
                        "Requirement already satisfied: mpmath<1.4,>=1.1.0 in /usr/local/lib/python3.10/dist-packages (from sympy->openfermion==1.6.1) (1.3.0)\n",
                        "Requirement already satisfied: pillow>=8 in /usr/local/lib/python3.10/dist-packages (from matplotlib~=3.0->cirq-core~=1.0->openfermion==1.6.1) (10.4.0)\n",
                        "Requirement already satisfied: kiwisolver>=1.3.1 in /usr/local/lib/python3.10/dist-packages (from matplotlib~=3.0->cirq-core~=1.0->openfermion==1.6.1) (1.4.5)\n",
                        "Requirement already satisfied: cycler>=0.10 in /usr/local/lib/python3.10/dist-packages (from matplotlib~=3.0->cirq-core~=1.0->openfermion==1.6.1) (0.12.1)\n",
                        "Requirement already satisfied: pyparsing>=2.3.1 in /usr/local/lib/python3.10/dist-packages (from matplotlib~=3.0->cirq-core~=1.0->openfermion==1.6.1) (3.1.2)\n",
                        "Requirement already satisfied: fonttools>=4.22.0 in /usr/local/lib/python3.10/dist-packages (from matplotlib~=3.0->cirq-core~=1.0->openfermion==1.6.1) (4.53.1)\n",
                        "Requirement already satisfied: contourpy>=1.0.1 in /usr/local/lib/python3.10/dist-packages (from matplotlib~=3.0->cirq-core~=1.0->openfermion==1.6.1) (1.2.1)\n",
                        "Requirement already satisfied: six>=1.5 in /usr/lib/python3/dist-packages (from python-dateutil>=2.8.2->pandas->ipie==0.7.1) (1.16.0)\n",
                        "Requirement already satisfied: pygments<3.0.0,>=2.13.0 in /usr/local/lib/python3.10/dist-packages (from rich>=10.0->plum-dispatch->ipie==0.7.1) (2.18.0)\n",
                        "Requirement already satisfied: markdown-it-py>=2.2.0 in /usr/local/lib/python3.10/dist-packages (from rich>=10.0->plum-dispatch->ipie==0.7.1) (2.2.0)\n",
                        "Requirement already satisfied: mdurl~=0.1 in /usr/local/lib/python3.10/dist-packages (from markdown-it-py>=2.2.0->rich>=10.0->plum-dispatch->ipie==0.7.1) (0.1.2)\n",
                        "\u001b[33mWARNING: Running pip as the 'root' user can result in broken permissions and conflicting behaviour with the system package manager. It is recommended to use a virtual environment instead: https://pip.pypa.io/warnings/venv\u001b[0m\u001b[33m\n",
                        "\u001b[0m"
                    ]
                }
            ],
            "source": [
                "# Package installs and relevant imports.\n",
                "\n",
                "!pip install pyscf==2.6.0 openfermion==1.6.1 ipie==0.7.1\n",
                "\n",
                "import cudaq\n",
                "\n",
                "import numpy as np\n",
                "import matplotlib.pyplot as plt\n",
                "\n",
                "from pyscf import gto, scf, ao2mo, mcscf\n",
                "\n",
                "from openfermion import jordan_wigner, generate_hamiltonian\n",
                "\n",
                "from src.vqe_cudaq_qnp import VQE, get_cudaq_hamiltonian\n",
                "from src.utils_ipie import get_coeff_wf, gen_ipie_input_from_pyscf_chk\n",
                "\n",
                "from ipie.hamiltonians.generic import Generic as HamGeneric\n",
                "from ipie.qmc.afqmc import AFQMC\n",
                "from ipie.systems.generic import Generic\n",
                "from ipie.trial_wavefunction.particle_hole import ParticleHole\n",
                "from ipie.analysis.extraction import extract_observable\n",
                "\n",
                "from ipie.config import config\n",
                "\n",
                "# Ipie has recently added GPU suppoort however this remains a bit tricky to use as it requires manual installation of several packages.\n",
                "# Once this is streamlined, we can set the GPU option to True in the tutorial.\n",
                "config.update_option(\"use_gpu\", False)\n"
            ]
        },
        {
            "attachments": {},
            "cell_type": "markdown",
            "metadata": {},
            "source": [
                "We start by defining the structure of the molecule, the basis set, and its spin. We build the molecule object with PySCF and run a preliminary Hartree-Fock computation. Here we choose as an example a [chelating agent](https://doi.org/10.1021/acs.jctc.3c01375) representing a relevant class of substances industrially produced at large scales. Their use ranges, among the others, from water softeners in cleaning applications, modulators of redox behaviour in oxidative bleaching, scale suppressants, soil remediation and ligands for catalysts. In particular we focus here in a Fe(III)-NTA complex whose structure is given in the file imported below. "
            ]
        },
        {
            "cell_type": "code",
            "execution_count": 2,
            "metadata": {},
            "outputs": [],
            "source": [
                "# Define the molecular structure and the basis set for the Fenta molecule.\n",
                "\n",
                "atom = \"src/geo_fenta.xyz\"\n",
                "basis = \"cc-pVTZ\"\n",
                "spin = 1\n",
                "num_active_orbitals = 5\n",
                "num_active_electrons = 5\n",
                "\n",
                "# You can swap to O3 which is a smaller system and takes less computational resources and time to run. \n",
                "\n",
                "atom = \"src/geo_o3.xyz\"\n",
                "basis = \"cc-pVTZ\"\n",
                "spin = 0\n",
                "num_active_orbitals = 9\n",
                "num_active_electrons = 12"
            ]
        },
        {
            "cell_type": "code",
            "execution_count": 3,
            "metadata": {},
            "outputs": [
                {
                    "data": {
                        "text/plain": [
                            "-224.34048064812245"
                        ]
                    },
                    "execution_count": 3,
                    "metadata": {},
                    "output_type": "execute_result"
                }
            ],
            "source": [
                "# PYSCF helps to build the molecule and run Hartree-Fock.\n",
                "\n",
                "# Define the molecule.\n",
                "molecule = gto.M(atom=atom, spin=spin, basis=basis, verbose=0)\n",
                "\n",
                "# Restriced open shell HF.\n",
                "hartee_fock = scf.ROHF(molecule)  \n",
                "hartee_fock.chkfile = \"src/output.chk\" \n",
                "\n",
                "# Run Hartree-Fock.\n",
                "hartee_fock.kernel()"
            ]
        },
        {
            "attachments": {},
            "cell_type": "markdown",
            "metadata": {},
            "source": [
                "### Hamiltonian preparation for VQE\n",
                "\n",
                "Since this molecule contains of around 600 orbitals (which would correspond to 1200 qubits) and 143 total electrons, it is impossible to perform a full VQE with full statevector simulation. Therefore, we need to identify an active space with fewer orbitals and electrons that contribute to the strongly interacting part of the whole molecule. We then run a post Hartree-Fock computation with the PySCF's built-in CASCI method in order to obtain the one-body ($t_{pq}$) and two-body \n",
                "($V_{prqs}$) integrals that define the molecular Hamiltonian in the active space:\n",
                "\n",
                "$$ H= \\sum_{pq}t_{pq}\\hat{a}_{p}^\\dagger \\hat {a}_{q}+\\sum_{pqrs}  V_{prqs}\\hat a_{p}^\\dagger \\hat a_{q}^\\dagger \\hat a_{s}\\hat a_{r} \\tag{1}$$"
            ]
        },
        {
            "cell_type": "code",
            "execution_count": 4,
            "metadata": {},
            "outputs": [],
            "source": [
                "# Run a CASCI simulation for computing the Hamiltonian in the active space.\n",
                "casci = mcscf.CASCI(hartee_fock, num_active_orbitals, num_active_electrons)\n",
                "casci.fix_spin_(ss=(molecule.spin / 2 * (molecule.spin / 2 + 1)))\n",
                "\n",
                "\n",
                "# Executes the kernel to compute the hamiltonian in the active space.\n",
                "casci.kernel()\n",
                "\n",
                "# Compute the one-body (h1) and two-body integrals (tbi) as shown in equation 1.\n",
                "h1, energy_core = casci.get_h1eff()\n",
                "\n",
                "h2 = casci.get_h2eff()\n",
                "h2_no_symmetry = ao2mo.restore('1', h2, num_active_orbitals)\n",
                "\n",
                "# V_pqrs terms in H.\n",
                "tbi = np.asarray(h2_no_symmetry.transpose(0, 2, 3, 1), order='C')\n",
                "\n",
                "# Compute the hamiltonian and convert it to a CUDA-Q operator.\n",
                "mol_ham = generate_hamiltonian(h1, tbi, energy_core.item())\n",
                "jw_hamiltonian = jordan_wigner(mol_ham)\n",
                "hamiltonian, constant_term = get_cudaq_hamiltonian(jw_hamiltonian)"
            ]
        },
        {
            "cell_type": "markdown",
            "metadata": {},
            "source": [
                "### Run VQE with CUDA-Q"
            ]
        },
        {
            "attachments": {},
            "cell_type": "markdown",
            "metadata": {},
            "source": [
                "We can now execute the VQE algorithm using the quantum number preserving ansatz. At the end of the VQE, we store the final statevector that will be used in the classical AFQMC computation as an initial guess. "
            ]
        },
        {
            "cell_type": "code",
            "execution_count": 5,
            "metadata": {},
            "outputs": [
                {
                    "name": "stdout",
                    "output_type": "stream",
                    "text": [
                        "# Using cudaq optimizer\n",
                        "# Num Params: 16\n",
                        "# Qubits: 18\n",
                        "# N_layers: 1\n",
                        "# Energy after the VQE: -224.39455391873756\n"
                    ]
                }
            ],
            "source": [
                "# Define some options for the VQE.\n",
                "options = {\n",
                "    'n_vqe_layers': 1,\n",
                "    'maxiter': 100,\n",
                "    'energy_core': constant_term,\n",
                "    'return_final_state_vec': True\n",
                "}\n",
                "\n",
                "n_qubits = 2 * num_active_orbitals\n",
                "\n",
                "vqe = VQE(n_qubits=n_qubits,\n",
                "        num_active_electrons=num_active_electrons,\n",
                "        spin=spin,\n",
                "        options=options)\n",
                "\n",
                "results = vqe.execute(hamiltonian)\n",
                "\n",
                "# Best energy from VQE.\n",
                "optimized_energy = results['energy_optimized']\n",
                "\n",
                "# Final state vector.\n",
                "final_state_vector = results[\"state_vec\"]\n",
                "\n",
                "# Energies during the optimization loop.\n",
                "vqe_energies = results[\"callback_energies\"]"
            ]
        },
        {
            "attachments": {},
            "cell_type": "markdown",
            "metadata": {},
            "source": [
                "### Auxiliary Field Quantum Monte Carlo (AFQMC)"
            ]
        },
        {
            "attachments": {},
            "cell_type": "markdown",
            "metadata": {},
            "source": [
                "AFQMC is a numerical method for computing relevant properties of strongly interacting molecules. AFQMC is a type of Quantum Monte Carlo method that combines the use of random walks with an auxiliary field to simulate the imaginary-time evolution of a quantum system and drive it to the lowest energy state. This method can provide accurate results for ground-state properties of a wide range of physical systems, including atoms, molecules, and solids. Here we summarize the main features of AFQMC while a detailed introduction to can be found [here](https://www.cond-mat.de/events/correl13/manuscripts/zhang.pdf).  "
            ]
        },
        {
            "attachments": {},
            "cell_type": "markdown",
            "metadata": {},
            "source": [
                "We consider the electronic Hamiltonian in the second quantization\n",
                "\\begin{equation}\n",
                "H = {H}_1 + {H}_2 \n",
                "=\\sum_{pq} h_{pq} {a}_{p}^{\\dagger} {a}_{q} + \\frac{1}{2} \\sum_{pqrs} v_{pqrs}{a}_{p}^{\\dagger} {a}_r {a}^{\\dagger}_{q} {a}_s \\tag{2}\n",
                "\\end{equation}\n",
                "where ${a}_{p}^{\\dagger}$ and ${a}_{q}$ are fermionic creation and annihilation operators of orbitals $p$ and $q$, respectively. The terms $h_{pq} $ and \n",
                "$v_{pqrs}$ are the matrix elements of the one-body, $H_1$, and two-body, $H_2$, interactions of $H$, respectively. Here, we omit the spin indices for simplicity. \n",
                "\n",
                "AFQMC realizes an imaginary time propagation of an initial state (chosen as a Slater determinant) $\\ket{\\Psi_{I}}$ towards the ground state $\\ket{\\Psi_0}$ of a given hamiltonian, $H$, with\n",
                "\\begin{equation}\n",
                "\\ket{\\Psi_0} \\sim\\lim_{n \\to \\infty} \\left[ e^{-\\Delta\\tau H  }  \\right]^{n} \\ket{\\Psi_{I}}\n",
                "\\tag{3}\n",
                "\\end{equation} \n",
                "where $\\Delta\\tau$ is the imaginary time step.\n",
                "\n",
                "AFQMC relies on decomposing the two-body interactions $H_2$ in terms of sum of squares of one-body operators ${v}_\\gamma$ such that the Hamiltonian ${H}$ becomes\n",
                "\\begin{equation}\n",
                "H = v_0 - \\frac{1}{2}\\sum_{\\gamma=1}^{N_\\gamma} {v}_\\gamma^2\n",
                "\\tag{4}\n",
                "\\end{equation}\n",
                "with ${v}_0 = {H}_1 $ and $\n",
                "{v}_\\gamma = i \\sum_{pq} L^{\\gamma}_{pq} {a}_{p}^{\\dagger}{a}_{q}.\n",
                "$\n",
                "The $N_\\gamma$ matrices $L^{\\gamma}_{pq}$ are called Cholesky vectors as they are  obtained via a Cholesky decomposition of the two-body matrix elements \n",
                "$v_{pqrs}$ via $v_{pqrs} = \\sum_{\\gamma=1}^{N_\\gamma} L^{\\gamma}_{pr} L^{\\gamma}_{qs}$.\n",
                "\n",
                "The imaginary time propagation evolves an ensemble of walkers $\\{\\phi^{(n)}\\}$ (that are Slater determinants) and allows one to access observables of the system. For example, the local energy\n",
                "\\begin{equation}\n",
                "    \\mathcal{E}_{\\text{loc}}(\\phi^{(n)}) = \\frac{\\bra{\\Psi_\\mathrm{T}}H\\ket{\\phi^{(n)}}}{\\braket{\\Psi_\\mathrm{T}| \\phi^{(n)}}}\n",
                "    \\tag{5}\n",
                "\\end{equation}\n",
                "defined as the mixed expectation value of the Hamiltonian with the trial wave function $\\ket{\\Psi_\\mathrm{T}}$.\n",
                "\n",
                "\n",
                "The trial wavefunction can be in general a single or a multi-Slater determinant coming from VQE for example. This might help in achieving more accurate ground state energy estimates.\n"
            ]
        },
        {
            "attachments": {},
            "cell_type": "markdown",
            "metadata": {},
            "source": [
                "\n",
                "The implementation of AFQMC we use here is from [ipie](https://github.com/JoonhoLee-Group/ipie) that supports both CPUs and GPUs and requires the following steps:\n",
                " \n",
                "1. Preparation of the molecular Hamiltonian by performing the Cholesky decomposition\n",
                "2. Preparation of the trial state from the VQE wavefunction\n",
                "3. Executing AFQMC\n"
            ]
        },
        {
            "cell_type": "markdown",
            "metadata": {},
            "source": [
                "### Preparation of the molecular Hamiltonian"
            ]
        },
        {
            "cell_type": "code",
            "execution_count": 6,
            "metadata": {},
            "outputs": [
                {
                    "name": "stdout",
                    "output_type": "stream",
                    "text": [
                        "# Number of electrons in simulation: (12, 12)\n"
                    ]
                }
            ],
            "source": [
                "# AFQMC.\n",
                "\n",
                "# Generate the input Hamiltonian for ipie from the checkpoint file from pyscf.\n",
                "ipie_hamiltonian = gen_ipie_input_from_pyscf_chk(hartee_fock.chkfile,\n",
                "                                                mcscf=True,\n",
                "                                                chol_cut=1e-5)\n",
                "\n",
                "\n",
                "h1e, cholesky_vectors, e0 = ipie_hamiltonian\n",
                "\n",
                "\n",
                "num_basis = cholesky_vectors.shape[1]\n",
                "num_chol = cholesky_vectors.shape[0]\n",
                "\n",
                "\n",
                "system = Generic(nelec=molecule.nelec)\n",
                "\n",
                "\n",
                "afqmc_hamiltonian = HamGeneric(\n",
                "    np.array([h1e, h1e]),\n",
                "    cholesky_vectors.transpose((1, 2, 0)).reshape(\n",
                "        (num_basis * num_basis, num_chol)),\n",
                "    e0,\n",
                ")\n"
            ]
        },
        {
            "cell_type": "markdown",
            "metadata": {},
            "source": [
                "### Preparation of the trial wave function"
            ]
        },
        {
            "cell_type": "code",
            "execution_count": 7,
            "metadata": {},
            "outputs": [],
            "source": [
                "# Build the trial wavefunction from the state vector computed via VQE.\n",
                "wavefunction = get_coeff_wf(final_state_vector,\n",
                "                            n_active_elec=num_active_electrons,\n",
                "                            spin=spin)\n",
                "\n",
                "\n",
                "trial = ParticleHole(wavefunction,\n",
                "                    molecule.nelec,\n",
                "                    num_basis,\n",
                "                    num_dets_for_props=len(wavefunction[0]),\n",
                "                    verbose=False)\n",
                "\n",
                "\n",
                "trial.compute_trial_energy = True\n",
                "trial.build()\n",
                "trial.half_rotate(afqmc_hamiltonian)\n"
            ]
        },
        {
            "attachments": {},
            "cell_type": "markdown",
            "metadata": {},
            "source": [
                "### Setup of the AFQMC parameters"
            ]
        },
        {
            "cell_type": "markdown",
            "metadata": {},
            "source": [
                "Here we can choose the input options like the timestep $\\Delta\\tau$, the total number of walkers `num_walkers` and the total number of AFQMC iterations `num_blocks`."
            ]
        },
        {
            "cell_type": "code",
            "execution_count": 8,
            "metadata": {},
            "outputs": [
                {
                    "name": "stdout",
                    "output_type": "stream",
                    "text": [
                        "# random seed is 96264512\n",
                        "            Block                   Weight            WeightFactor            HybridEnergy                  ENumer                  EDenom                  ETotal                  E1Body                  E2Body\n",
                        "                0   1.0000000000000000e+02  1.0000000000000000e+02  0.0000000000000000e+00 -2.2439465244950203e+04  1.0000000000000000e+02 -2.2439465244950202e+02 -3.7639365203867487e+02  1.5199899958917266e+02\n",
                        "                1   4.2257648211202041e+02  1.4118352566146912e+03 -1.1708781723514100e+02 -2.2474961577830902e+04  1.0000000000000000e+02 -2.2474961577830902e+02 -3.7647308225293006e+02  1.5172346647462109e+02\n",
                        "                2   1.0031489973054153e+02  3.8296931512818799e+02 -1.1739814508643387e+02 -2.2490570288678173e+04  9.9999999999999986e+01 -2.2490570288678177e+02 -3.7651499602921865e+02  1.5160929314243688e+02\n",
                        "                3   9.9899124417981398e+01  1.0007710127132816e+02 -1.1733518883940451e+02 -2.2497061024781047e+04  1.0000000000000001e+02 -2.2497061024781044e+02 -3.7660531414319280e+02  1.5163470389538242e+02\n",
                        "                4   1.0009060291384831e+02  1.0004714292466085e+02 -1.1745569319500697e+02 -2.2496823352306707e+04  9.9999999999999986e+01 -2.2496823352306711e+02 -3.7676999591027487e+02  1.5180176238720782e+02\n",
                        "                5   9.9997242217317222e+01  1.0010506645011135e+02 -1.1749375385284860e+02 -2.2503927098199190e+04  9.9999999999999986e+01 -2.2503927098199193e+02 -3.7664537123061695e+02  1.5160610024862498e+02\n",
                        "                6   1.0011598340904611e+02  1.0018093055646010e+02 -1.1766450732506367e+02 -2.2514151047506060e+04  1.0000000000000001e+02 -2.2514151047506056e+02 -3.7662515546509837e+02  1.5148364499003787e+02\n",
                        "                7   9.9931932359528290e+01  9.9917043377734430e+01 -1.1761173758223730e+02 -2.2516980967475763e+04  9.9999999999999986e+01 -2.2516980967475769e+02 -3.7661747986952435e+02  1.5144767019476669e+02\n",
                        "                8   9.9903440836318893e+01  9.9912326794208823e+01 -1.1757552239146686e+02 -2.2518385982864529e+04  1.0000000000000001e+02 -2.2518385982864527e+02 -3.7676486082510485e+02  1.5158100099645964e+02\n",
                        "                9   1.0011991901791446e+02  1.0012061961128964e+02 -1.1776170098544125e+02 -2.2513305857405743e+04  1.0000000000000000e+02 -2.2513305857405743e+02 -3.7678713382576149e+02  1.5165407525170403e+02\n",
                        "               10   9.9637390171080185e+01  9.9239933461966174e+01 -1.1746009845713708e+02 -2.2518479510675039e+04  1.0000000000000001e+02 -2.2518479510675036e+02 -3.7689262023872351e+02  1.5170782513197315e+02\n"
                    ]
                }
            ],
            "source": [
                "# Setup the AFQMC parameters.\n",
                "afqmc_msd = AFQMC.build(molecule.nelec,\n",
                "                        afqmc_hamiltonian,\n",
                "                        trial,\n",
                "                        num_walkers=100,\n",
                "                        num_steps_per_block=25,\n",
                "                        num_blocks=10,\n",
                "                        timestep=0.005,\n",
                "                        stabilize_freq=5,\n",
                "                        seed=96264512,\n",
                "                        pop_control_freq=5,\n",
                "                        verbose=False)\n",
                "\n",
                "\n",
                "# Run the AFQMC.\n",
                "afqmc_msd.run(estimator_filename = 'src/estimates.0.h5')\n",
                "afqmc_msd.finalise(verbose=False)\n",
                "\n",
                "\n",
                "# Extract the energies.\n",
                "qmc_data = extract_observable(afqmc_msd.estimators.filename, \"energy\")\n"
            ]
        },
        {
            "cell_type": "code",
            "execution_count": 9,
            "metadata": {},
            "outputs": [
                {
                    "data": {
                        "text/plain": [
                            "<matplotlib.legend.Legend at 0x72d8373072e0>"
                        ]
                    },
                    "execution_count": 9,
                    "metadata": {},
                    "output_type": "execute_result"
                },
                {
                    "data": {
                        "image/png": "[encoded data removed]",
                        "text/plain": [
                            "<Figure size 640x480 with 1 Axes>"
                        ]
                    },
                    "metadata": {},
                    "output_type": "display_data"
                }
            ],
            "source": [
                "# Plot the energies.\n",
                "\n",
                "vqe_y = vqe_energies\n",
                "vqe_x = list(range(len(vqe_y)))\n",
                "plt.plot(vqe_x, vqe_y, label=\"VQE\")\n",
                "\n",
                "afqmc_y = list(qmc_data[\"ETotal\"])\n",
                "afqmc_x = [i + vqe_x[-1] for i in list(range(len(afqmc_y)))]\n",
                "plt.plot(afqmc_x, afqmc_y, label=\"AFQMC\")\n",
                "\n",
                "plt.xlabel(\"Optimization steps\")\n",
                "plt.ylabel(\"Energy [Ha]\")\n",
                "plt.legend()"
            ]
        }
    ],
    "metadata": {
        "kernelspec": {
            "display_name": "Python 3 (ipykernel)",
            "language": "python",
            "name": "python3"
        },
        "language_info": {
            "codemirror_mode": {
                "name": "ipython",
                "version": 3
            },
            "file_extension": ".py",
            "mimetype": "text/x-python",
            "name": "python",
            "nbconvert_exporter": "python",
            "pygments_lexer": "ipython3",
            "version": "3.10.12"
        },
        "vscode": {
            "interpreter": {
                "hash": "31f2aee4e71d21fbe5cf8b01ff0e069b9275f58929596ceb00d14d90e3e16cd6"
            }
        }
    },
    "nbformat": 4,
    "nbformat_minor": 4
}
